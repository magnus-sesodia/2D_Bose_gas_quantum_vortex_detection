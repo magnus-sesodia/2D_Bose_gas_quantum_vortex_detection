{
 "cells": [
  {
   "cell_type": "markdown",
   "id": "f8cf8963-7d59-4067-9b1e-4ee1d63947fc",
   "metadata": {},
   "source": [
    "# Inference\n",
    "\n",
    "Load experimental images - both regular and enhanced and make predictions\n",
    "\n",
    "#### Libraries 📚🔽"
   ]
  },
  {
   "cell_type": "code",
   "execution_count": 1,
   "id": "9800ea77-6399-48ac-b77b-a7389c0b3682",
   "metadata": {},
   "outputs": [],
   "source": [
    "import os\n",
    "import numpy as np\n",
    "import pandas as pd\n",
    "import matplotlib.pyplot as plt\n",
    "import matplotlib\n",
    "matplotlib.rcParams['mathtext.fontset'] = 'cm'\n",
    "matplotlib.rcParams['font.family'] = 'STIXGeneral'\n",
    "\n",
    "from tqdm.notebook import tqdm\n",
    "from scipy.constants import h, hbar, pi, k\n",
    "from scipy.optimize import curve_fit\n",
    "\n",
    "from tensorflow.keras.models import load_model"
   ]
  },
  {
   "cell_type": "markdown",
   "id": "82e5d440-4cf3-4e93-9cb5-5912795a6bf3",
   "metadata": {},
   "source": [
    "#### Constants"
   ]
  },
  {
   "cell_type": "code",
   "execution_count": 2,
   "id": "aa774ea1-1add-4fcd-8fd9-44d901c48662",
   "metadata": {},
   "outputs": [],
   "source": [
    "N = 70 \n",
    "DX = 1.0e-6\n",
    "f = 3 # filter size for NMS\n",
    "mass = 87 * 1.6e-27\n",
    "T = 50 * 1e-9\n",
    "lambda_squared = h**2/(2 * pi * mass * k * T) # thermal de Broglie wavelength squared"
   ]
  },
  {
   "cell_type": "markdown",
   "id": "d90786d4-81a7-40f0-bf47-e96671821b9a",
   "metadata": {},
   "source": [
    "## 1. Load Experimental Data and Trained Model"
   ]
  },
  {
   "cell_type": "code",
   "execution_count": 3,
   "id": "662adc75-9c45-479e-9836-b4909c53febd",
   "metadata": {},
   "outputs": [],
   "source": [
    "data_path = \"../qvortex-detection/single_layer/essential/data\""
   ]
  },
  {
   "cell_type": "code",
   "execution_count": 4,
   "id": "04bd9ce6-c4ad-4bf0-b1e1-58dcc615b1e0",
   "metadata": {},
   "outputs": [],
   "source": [
    "images_curated = np.load(f\"{data_path}/numpy_files/images_curated.npy\")\n",
    "images_enhanced = np.load(f\"{data_path}/numpy_files/images_enhanced.npy\")\n",
    "masks_exp_curated = np.load(f\"{data_path}/numpy_files/masks_exp_curated.npy\")\n",
    "psds_exp_curated = np.load(f\"{data_path}/numpy_files/psds_exp_curated.npy\")"
   ]
  },
  {
   "cell_type": "code",
   "execution_count": 5,
   "id": "f8277892-0233-4064-9d8c-4ff560996f70",
   "metadata": {},
   "outputs": [],
   "source": [
    "model_name = \"70_noise_v81\"\n",
    "model_path = f\"../qvortex-detection/single_layer/essential/models/{model_name}.keras\"\n",
    "model = load_model(model_path, compile=False)"
   ]
  },
  {
   "cell_type": "markdown",
   "id": "6b607c85-2475-4467-9370-81b43139c91a",
   "metadata": {},
   "source": [
    "## 2. Helper Functions"
   ]
  },
  {
   "cell_type": "code",
   "execution_count": 6,
   "id": "f9f7599c-9e90-4aa5-9a89-3e720186bfbb",
   "metadata": {},
   "outputs": [],
   "source": [
    "def predict(model, images):\n",
    "    preds = model.predict(images)[:, :, :, 0]\n",
    "    preds_rounded = np.where(preds >= 0.5, 1, 0)\n",
    "    preds_masked = np.multiply(preds_rounded, masks_exp_curated)\n",
    "    \n",
    "    return preds_masked"
   ]
  },
  {
   "cell_type": "code",
   "execution_count": 7,
   "id": "293786ed-77f9-40f8-982c-6005fe4bb345",
   "metadata": {},
   "outputs": [],
   "source": [
    "def nms(pred):\n",
    "    pred_nms = pred.copy()\n",
    "    for j in range(N - f):\n",
    "        for i in range(N - f):\n",
    "            filter = pred_nms[j:j+f, i:i+f]\n",
    "            if (filter >= 0.5).sum() > 1:\n",
    "                replacement = np.zeros((f, f))\n",
    "                max_idx = np.unravel_index(np.argmax(filter), shape=filter.shape)\n",
    "                if max_idx == (1, 1):\n",
    "                    replacement[max_idx] = filter[max_idx]\n",
    "                    pred_nms[j:j+f, i:i+f] = replacement\n",
    "\n",
    "    return pred_nms"
   ]
  },
  {
   "cell_type": "code",
   "execution_count": 8,
   "id": "8b010383-d09d-4237-9faf-abc21e099757",
   "metadata": {},
   "outputs": [
    {
     "ename": "NameError",
     "evalue": "name 'filters' is not defined",
     "output_type": "error",
     "traceback": [
      "\u001b[1;31m---------------------------------------------------------------------------\u001b[0m",
      "\u001b[1;31mNameError\u001b[0m                                 Traceback (most recent call last)",
      "Cell \u001b[1;32mIn[8], line 1\u001b[0m\n\u001b[1;32m----> 1\u001b[0m plt\u001b[38;5;241m.\u001b[39mhist(\u001b[43mfilters\u001b[49m\u001b[38;5;241m.\u001b[39mflatten())\n",
      "\u001b[1;31mNameError\u001b[0m: name 'filters' is not defined"
     ]
    }
   ],
   "source": [
    "plt.hist(filters.flatten())"
   ]
  },
  {
   "cell_type": "markdown",
   "id": "aa9bc1c7-10e6-4b08-8691-7fb9b4101dcc",
   "metadata": {},
   "source": [
    "##### first channel of every filter in first 3 layers"
   ]
  },
  {
   "cell_type": "code",
   "execution_count": null,
   "id": "2c85d039-8992-42cb-9fb3-2454c5c7ad16",
   "metadata": {},
   "outputs": [],
   "source": [
    "for idx in range(len(layers) - 1):\n",
    "\n",
    "    filters, biases = layers[idx].get_weights()\n",
    "     \n",
    "    # normalize filter values to 0-1 so we can visualize them\n",
    "    f_min, f_max = filters.min(), filters.max()\n",
    "    filters = (filters - f_min) / (f_max - f_min)\n",
    "    \n",
    "    n_filters = layers[idx].filters\n",
    "    fig, axes = plt.subplots(1, n_filters, figsize=(20, 4))\n",
    "    for i, ax in enumerate(axes.flat):\n",
    "        f = filters[:, :, 0, i]\n",
    "        ax.set_axis_off()\n",
    "        ax.imshow(f)\n",
    "    plt.show()"
   ]
  },
  {
   "cell_type": "markdown",
   "id": "661355e8-fb74-4717-8d9e-c285380ce448",
   "metadata": {},
   "source": [
    "##### all channels of only filter in final layer"
   ]
  },
  {
   "cell_type": "code",
   "execution_count": null,
   "id": "dede5489-c190-445e-af08-44b8346fb360",
   "metadata": {},
   "outputs": [],
   "source": [
    "filters, biases = layers[-1].get_weights()\n",
    " \n",
    "# normalize filter values to 0-1 so we can visualize them\n",
    "f_min, f_max = filters.min(), filters.max()\n",
    "filters = (filters - f_min) / (f_max - f_min)\n",
    "\n",
    "n_channels = filters.shape[2]\n",
    "fig, axes = plt.subplots(1, n_channels, figsize=(20, 4))\n",
    "for i, ax in enumerate(axes.flat):\n",
    "    f = filters[:, :, i, 0]\n",
    "    ax.set_axis_off()\n",
    "    ax.imshow(f)\n",
    "plt.show()"
   ]
  },
  {
   "cell_type": "code",
   "execution_count": null,
   "id": "3cefb066-bfc1-433f-be14-d29d9f3ea52e",
   "metadata": {},
   "outputs": [],
   "source": [
    "ind = 0\n",
    "plt.imshow(images_enhanced[ind])"
   ]
  },
  {
   "cell_type": "code",
   "execution_count": null,
   "id": "19eb56f7-a293-49db-a7df-4ddcc6309cea",
   "metadata": {},
   "outputs": [],
   "source": [
    "for j in range(len(layers)):\n",
    "    vis_model = Model(inputs=model.inputs, outputs=layers[j].output)\n",
    "    img = np.expand_dims(images_enhanced[ind], axis=0)\n",
    "    feature_maps = vis_model.predict(img)\n",
    "    \n",
    "    n_maps = feature_maps.shape[3]\n",
    "    fig, axes = plt.subplots(a:=math.ceil(n_maps / 10), 10, figsize=(20, 2*a))\n",
    "    for i, ax in enumerate(axes.flat):\n",
    "        if i < n_maps:\n",
    "            fmap = feature_maps[0, :, :, i]\n",
    "            ax.set_axis_off()\n",
    "            ax.imshow(fmap)\n",
    "        else:\n",
    "            continue\n"
   ]
  },
  {
   "cell_type": "code",
   "execution_count": null,
   "id": "7a6f91c1-b56d-4ed4-af66-36c136e9781b",
   "metadata": {},
   "outputs": [],
   "source": []
  },
  {
   "cell_type": "markdown",
   "id": "0327a3ca-2e16-453e-a639-e020ce7751ec",
   "metadata": {},
   "source": [
    "## 3. Predict"
   ]
  },
  {
   "cell_type": "code",
   "execution_count": 9,
   "id": "af1cd687-af35-400e-b104-665a76a45303",
   "metadata": {},
   "outputs": [
    {
     "name": "stdout",
     "output_type": "stream",
     "text": [
      "28/28 [==============================] - 1s 3ms/step\n"
     ]
    }
   ],
   "source": [
    "preds = predict(model, images_enhanced)"
   ]
  },
  {
   "cell_type": "code",
   "execution_count": 10,
   "id": "7f4bf41f-b50f-43af-925a-b0b46593e8db",
   "metadata": {
    "scrolled": true
   },
   "outputs": [
    {
     "data": {
      "application/vnd.jupyter.widget-view+json": {
       "model_id": "d8f1d8deb5ca4f85a9fd6ff6db9c5edd",
       "version_major": 2,
       "version_minor": 0
      },
      "text/plain": [
       "  0%|          | 0/876 [00:00<?, ?it/s]"
      ]
     },
     "metadata": {},
     "output_type": "display_data"
    }
   ],
   "source": [
    "preds_nms = np.zeros_like(preds)\n",
    "for i in tqdm(range(preds.shape[0])):\n",
    "    preds_nms[i] = nms(preds[i])\n",
    "\n",
    "preds_nms_rounded = np.where(preds_nms >= 0.5, 1, 0)"
   ]
  },
  {
   "cell_type": "markdown",
   "id": "d93f6779-c324-4373-a51d-ebb2c8391fea",
   "metadata": {},
   "source": [
    "## 4. Visualise Predictions"
   ]
  },
  {
   "cell_type": "code",
   "execution_count": 11,
   "id": "1ede13cc-8ee5-44ba-b069-a2b3a4384dc1",
   "metadata": {},
   "outputs": [
    {
     "data": {
      "image/png": "[encoded data removed]",
      "text/plain": [
       "<Figure size 600x600 with 1 Axes>"
      ]
     },
     "metadata": {},
     "output_type": "display_data"
    }
   ],
   "source": [
    "ind = 1\n",
    "\n",
    "plt.figure(figsize=(6, 6))\n",
    "plt.imshow(images_curated[ind])\n",
    "points = np.where(preds_nms_rounded[ind]!=0)\n",
    "plt.scatter(points[1], points[0], marker='x', s=15, color='red',  label='vortex predictions', alpha=1.0)\n",
    "plt.imshow(masks_exp_curated[ind], alpha=0.1)\n",
    "plt.title(f\"Phase-Space Density: {psds_exp_curated[ind]:.1f}\")\n",
    "plt.show()"
   ]
  },
  {
   "cell_type": "code",
   "execution_count": 12,
   "id": "651c7cbd-d21e-44d2-aa17-b567b9bf81f1",
   "metadata": {},
   "outputs": [
    {
     "ename": "NameError",
     "evalue": "name 'images' is not defined",
     "output_type": "error",
     "traceback": [
      "\u001b[1;31m---------------------------------------------------------------------------\u001b[0m",
      "\u001b[1;31mNameError\u001b[0m                                 Traceback (most recent call last)",
      "Cell \u001b[1;32mIn[12], line 3\u001b[0m\n\u001b[0;32m      1\u001b[0m ind \u001b[38;5;241m=\u001b[39m \u001b[38;5;241m0\u001b[39m\n\u001b[1;32m----> 3\u001b[0m plt\u001b[38;5;241m.\u001b[39mimshow(\u001b[43mimages\u001b[49m[ind])\n\u001b[0;32m      4\u001b[0m points_neg \u001b[38;5;241m=\u001b[39m np\u001b[38;5;241m.\u001b[39mwhere(images[ind] \u001b[38;5;241m<\u001b[39m \u001b[38;5;241m0\u001b[39m)\n\u001b[0;32m      5\u001b[0m plt\u001b[38;5;241m.\u001b[39mcolorbar()\n",
      "\u001b[1;31mNameError\u001b[0m: name 'images' is not defined"
     ]
    }
   ],
   "source": [
    "ind = 0\n",
    "\n",
    "plt.imshow(images[ind])\n",
    "points_neg = np.where(images[ind] < 0)\n",
    "plt.colorbar()\n",
    "points = np.where(preds[ind]!=0)\n",
    "plt.scatter(points_neg[1]*scale, points_neg[0]*scale, marker='o', facecolors='none', edgecolors='white', alpha=0.5)\n",
    "plt.scatter(points[1]*scale, points[0]*scale, marker='x', s=15, color='red',  label='vortex predictions', alpha=1.0)\n"
   ]
  },
  {
   "cell_type": "markdown",
   "id": "366c6ca7-1978-4b21-aa6f-0b901923d2d9",
   "metadata": {},
   "source": [
    "## 5. Vortex Number Scaling"
   ]
  },
  {
   "cell_type": "code",
   "execution_count": null,
   "id": "d6319e46-e960-4338-b873-1453118b4c3b",
   "metadata": {},
   "outputs": [],
   "source": [
    "def sem(series): \n",
    "    \"Computes standard error of mean\"\n",
    "    return np.std(series, ddof=1) / np.sqrt(np.size(series))"
   ]
  },
  {
   "cell_type": "code",
   "execution_count": null,
   "id": "e57708e5-5794-417e-b1c0-9e841fc74f3f",
   "metadata": {},
   "outputs": [],
   "source": [
    "vortex_counts = np.sum(preds_nms_rounded, axis=(1,2))\n",
    "vortex_density = vortex_counts / (np.sum(masks_exp_curated, axis=(1,2)))"
   ]
  },
  {
   "cell_type": "code",
   "execution_count": null,
   "id": "f8ac69f3-db65-4943-9397-3f0179f9bf67",
   "metadata": {},
   "outputs": [],
   "source": [
    "df = pd.DataFrame({\"psd\": psds_exp_curated, \"vortex_density\": vortex_density})\n",
    "df = df.groupby(['psd']).agg(vortex_density_mean= ('vortex_density', 'mean'),\n",
    "                             vortex_density_sem=('vortex_density', sem)).reset_index()\n",
    "\n",
    "df['healing_length'] = 1 / np.sqrt(2 * 0.08 * df['psd'] * (1 / lambda_squared))\n",
    "df['dimensionless_vortex_density'] = df['vortex_density_mean'] * (1 / DX**2) * df['healing_length']**2\n",
    "df['dimensionless_vortex_sem'] = df['vortex_density_sem'] * (1 / DX**2) * df['healing_length']**2\n",
    "df.head()"
   ]
  },
  {
   "cell_type": "code",
   "execution_count": null,
   "id": "39e80240-85db-4b97-aa09-0cce75343e13",
   "metadata": {},
   "outputs": [],
   "source": [
    "def exp(x, a, b):\n",
    "    return np.exp(a + b*x)"
   ]
  },
  {
   "cell_type": "code",
   "execution_count": null,
   "id": "d7dcc70c-f724-422b-86b6-855a84cb015e",
   "metadata": {},
   "outputs": [],
   "source": [
    "popt, pcov = curve_fit(exp, df['psd'], df['dimensionless_vortex_density'], p0=[1, -0.5])\n",
    "a, b = popt\n",
    "a_err, b_err = np.sqrt(np.diag(pcov))\n",
    "print(f\"a: {a:.2f} +- {a_err:.2f}\")\n",
    "print(f\"b: {b:.3f} +- {b_err:.3f}\")"
   ]
  },
  {
   "cell_type": "code",
   "execution_count": null,
   "id": "8a74ba38-ddaf-4578-bb32-24b0799ce6e3",
   "metadata": {},
   "outputs": [],
   "source": [
    "fig, ax1 = plt.subplots(figsize=(8, 6))\n",
    "\n",
    "left, bottom, width, height = [0.424, 0.4, 0.45, 0.45]\n",
    "ax2 = fig.add_axes([left, bottom, width, height])\n",
    "\n",
    "x_plot = np.linspace(df['psd'].min(), df['psd'].max(), 101)\n",
    "\n",
    "for ax in (ax1, ax2):\n",
    "    ax.errorbar(df['psd'], df['dimensionless_vortex_density'], yerr=df['dimensionless_vortex_sem'],\n",
    "             fmt='bo', capsize=2, markerfacecolor='white', label='Data', zorder=-1)\n",
    "    ax.plot(x_plot, exp(x_plot, *popt), c='red', linewidth=3, label='Fit', zorder=1)\n",
    "    ax.tick_params(axis='both', which='major', labelsize=14)\n",
    "\n",
    "\n",
    "ax1.set_xlabel(r\"$\\mathcal{D}_{\\text{avg.}}$\", size=24)\n",
    "ax1.set_ylabel(r\"$\\tilde{n}_{v} = \\bar{n}_v \\xi^2$\", size=24)\n",
    "ax2.grid(which='both', axis='y', linestyle='dashed')\n",
    "ax2.grid(which='both', axis='x', linestyle='dashed', alpha=0.5)\n",
    "ax2.set_yscale('log')\n",
    "ax2.legend(loc='best', fontsize=16)\n",
    "plt.show()"
   ]
  },
  {
   "cell_type": "code",
   "execution_count": null,
   "id": "f5f13af3-cb0b-461e-8dff-e9bc11feacad",
   "metadata": {},
   "outputs": [],
   "source": []
  }
 ],
 "metadata": {
  "kernelspec": {
   "display_name": "Python 3 (ipykernel)",
   "language": "python",
   "name": "python3"
  },
  "language_info": {
   "codemirror_mode": {
    "name": "ipython",
    "version": 3
   },
   "file_extension": ".py",
   "mimetype": "text/x-python",
   "name": "python",
   "nbconvert_exporter": "python",
   "pygments_lexer": "ipython3",
   "version": "3.9.19"
  }
 },
 "nbformat": 4,
 "nbformat_minor": 5
}
